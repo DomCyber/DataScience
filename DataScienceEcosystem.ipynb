{
 "cells": [
  {
   "cell_type": "markdown",
   "id": "0c69d24e-0ce7-470f-b46b-75865e0fb651",
   "metadata": {},
   "source": [
    "# Data Science Tools and Ecosystem"
   ]
  },
  {
   "cell_type": "markdown",
   "id": "90a5194f-b04a-417d-bce8-b0ee8015cf52",
   "metadata": {},
   "source": [
    "## Author "
   ]
  },
  {
   "cell_type": "markdown",
   "id": "1744ef75-143c-49d8-bcd6-c6ac7ecb5260",
   "metadata": {},
   "source": [
    "Dominique Outar"
   ]
  },
  {
   "cell_type": "markdown",
   "id": "20cd60f1-72a4-43d6-8d42-91a99858ac54",
   "metadata": {},
   "source": [
    "In this notebook, Data Science Tools and Ecosystem are summarized."
   ]
  },
  {
   "cell_type": "markdown",
   "id": "1ce1227d-a609-4b8e-b067-83a4010f0ffc",
   "metadata": {},
   "source": [
    "**Objectives:**"
   ]
  },
  {
   "cell_type": "markdown",
   "id": "dbc3e2a3-3b5f-4612-8001-8e3e34548e26",
   "metadata": {},
   "source": [
    "+ List popular languages for Data Science\n",
    "+ List popular libraries used for Data Science\n",
    "+ Create simple arithmetic expression"
   ]
  },
  {
   "cell_type": "markdown",
   "id": "a26401d4-7d38-4360-858d-43764ae7275d",
   "metadata": {},
   "source": [
    "Some of the popular languages that Data Scientist use are:"
   ]
  },
  {
   "cell_type": "markdown",
   "id": "ff287ab2-bfaf-4c20-9dfb-d0af8e8ccfb3",
   "metadata": {},
   "source": [
    "1. Python \n",
    "2. SQL\n",
    "3. Java"
   ]
  },
  {
   "cell_type": "markdown",
   "id": "0ff9d6af-c053-4df6-97f0-50186586df68",
   "metadata": {},
   "source": [
    "Some of the commonly used libraries used by Data Scientist include:"
   ]
  },
  {
   "cell_type": "markdown",
   "id": "7d06a791-6eb1-47a8-ba3d-21414867ca6f",
   "metadata": {},
   "source": [
    "1. Pandas\n",
    "2. Matplotlib\n",
    "3. NumPy\n",
    "4. Scikit-learn"
   ]
  },
  {
   "cell_type": "markdown",
   "id": "ad9220fd-80be-466e-b1e2-a23da2d52ee4",
   "metadata": {},
   "source": [
    "| Data Science Tools | \n",
    "---------------------\n",
    "| Jupyter |\n",
    "| R Studio |\n",
    "| Spyder |"
   ]
  },
  {
   "cell_type": "markdown",
   "id": "93558abf-9dfc-4422-a691-d54bb4c013ba",
   "metadata": {},
   "source": [
    "### Below are a few examples of evaluating arithmetic expressions in Python"
   ]
  },
  {
   "cell_type": "code",
   "execution_count": 2,
   "id": "815066f1-0da6-4fcb-888e-6d67d664497d",
   "metadata": {},
   "outputs": [
    {
     "data": {
      "text/plain": [
       "17"
      ]
     },
     "execution_count": 2,
     "metadata": {},
     "output_type": "execute_result"
    }
   ],
   "source": [
    "# This is a simple arithmetic expression to multiply then add integers\n",
    "(3*4)+5"
   ]
  },
  {
   "cell_type": "code",
   "execution_count": 9,
   "id": "63854299-ffeb-48c3-ac0e-fa859d075d0d",
   "metadata": {},
   "outputs": [
    {
     "name": "stdout",
     "output_type": "stream",
     "text": [
      "3.3333333333333335\n"
     ]
    }
   ],
   "source": [
    "# This will convert 200 minutes to hours by dividing by 60\n",
    "x = (200/60)\n",
    "print (x)"
   ]
  }
 ],
 "metadata": {
  "kernelspec": {
   "display_name": "Python 3 (ipykernel)",
   "language": "python",
   "name": "python3"
  },
  "language_info": {
   "codemirror_mode": {
    "name": "ipython",
    "version": 3
   },
   "file_extension": ".py",
   "mimetype": "text/x-python",
   "name": "python",
   "nbconvert_exporter": "python",
   "pygments_lexer": "ipython3",
   "version": "3.9.18"
  }
 },
 "nbformat": 4,
 "nbformat_minor": 5
}
